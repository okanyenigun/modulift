{
 "cells": [
  {
   "cell_type": "code",
   "execution_count": null,
   "metadata": {},
   "outputs": [],
   "source": [
    "import modulift as mf"
   ]
  },
  {
   "cell_type": "code",
   "execution_count": null,
   "metadata": {},
   "outputs": [],
   "source": [
    "result = mf.search_by_package_name(\"numpy\")\n",
    "print(result)"
   ]
  },
  {
   "cell_type": "code",
   "execution_count": null,
   "metadata": {},
   "outputs": [],
   "source": [
    "result = mf.search_by_package_name(\"nullsweep\")\n",
    "print(result)"
   ]
  },
  {
   "cell_type": "code",
   "execution_count": null,
   "metadata": {},
   "outputs": [],
   "source": [
    "result = mf.search_by_package_name(\"numpy\", markdown=True)"
   ]
  },
  {
   "cell_type": "code",
   "execution_count": null,
   "metadata": {},
   "outputs": [],
   "source": [
    "result = mf.search_by_keywords(\"data science\")\n",
    "\n",
    "print(len(result))"
   ]
  },
  {
   "cell_type": "code",
   "execution_count": null,
   "metadata": {},
   "outputs": [],
   "source": [
    "result = mf.search_by_keywords(\"data science\", \"machine learning\", \"deep learning\", relation=\"and\")\n",
    "\n",
    "print(len(result))"
   ]
  },
  {
   "cell_type": "code",
   "execution_count": null,
   "metadata": {},
   "outputs": [],
   "source": [
    "result = mf.search_by_keywords(\"data science\", \"machine learning\", \"deep learning\", relation=\"and\", limit=3, markdown=True)\n",
    "\n",
    "print(len(result))"
   ]
  },
  {
   "cell_type": "code",
   "execution_count": null,
   "metadata": {},
   "outputs": [],
   "source": [
    "result = mf.search_by_description(\"training and deploying machine learning models on Amazon\", markdown=True)"
   ]
  },
  {
   "cell_type": "code",
   "execution_count": 6,
   "metadata": {},
   "outputs": [
    {
     "data": {
      "text/markdown": [
       "### Similar Packages to 'nullsweep'\n",
       "\n",
       "**missingdata-101703386**\n",
       "- **Description**: This library provides tools for handling missing data in Python. It offers functions to identify, handle, and potentially impute missing values.\n",
       "- **Similarity Score**: 0.6119\n",
       "\n",
       "**impute**\n",
       "- **Description**: Impute missing values in datasets using various imputation techniques.\n",
       "- **Similarity Score**: 0.5538\n",
       "\n",
       "**arushigupta-101703106-missing1**\n",
       "- **Description**: This library provides functionality for handling missing values in Pandas DataFrames.\n",
       "- **Similarity Score**: 0.5453\n"
      ],
      "text/plain": [
       "<IPython.core.display.Markdown object>"
      ]
     },
     "metadata": {},
     "output_type": "display_data"
    }
   ],
   "source": [
    "similar_packages = mf.find_similar_package(\"nullsweep\", top_n=3, markdown=True)"
   ]
  },
  {
   "cell_type": "code",
   "execution_count": null,
   "metadata": {},
   "outputs": [],
   "source": []
  }
 ],
 "metadata": {
  "kernelspec": {
   "display_name": "venv",
   "language": "python",
   "name": "python3"
  },
  "language_info": {
   "codemirror_mode": {
    "name": "ipython",
    "version": 3
   },
   "file_extension": ".py",
   "mimetype": "text/x-python",
   "name": "python",
   "nbconvert_exporter": "python",
   "pygments_lexer": "ipython3",
   "version": "3.11.5"
  }
 },
 "nbformat": 4,
 "nbformat_minor": 2
}
