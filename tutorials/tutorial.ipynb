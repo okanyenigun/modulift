{
 "cells": [
  {
   "cell_type": "code",
   "execution_count": null,
   "metadata": {},
   "outputs": [],
   "source": [
    "import modulift as mf"
   ]
  },
  {
   "cell_type": "code",
   "execution_count": 2,
   "metadata": {},
   "outputs": [
    {
     "name": "stdout",
     "output_type": "stream",
     "text": [
      "{'package': 'numpy', 'description': 'NumPy is the fundamental package for scientific computing with Python. It provides powerful N-dimensional arrays, sophisticated mathematical functions, tools for integrating C/C++ and Fortran code, and useful linear algebra, Fourier transform, and random number capabilities.', 'keywords': 'scientific computing, array, linear algebra, Fourier transform, random number generation, data processing, numerical analysis', 'popularity': 'very popular'}\n"
     ]
    }
   ],
   "source": [
    "result = mf.search_by_package_name(\"numpy\")\n",
    "print(result)"
   ]
  },
  {
   "cell_type": "code",
   "execution_count": 8,
   "metadata": {},
   "outputs": [
    {
     "name": "stdout",
     "output_type": "stream",
     "text": [
      "{'package': 'nullsweep', 'description': 'NullSweep is a Python library designed for detecting and handling patterns of missing data in pandas DataFrames. It provides a simple API to identify global missing data patterns across the entire dataset, patterns related to specific features within the dataset, and to impute missing values using various strategies.', 'keywords': 'missing data, data imputation, pandas, pattern detection, feature-specific patterns', 'popularity': 'popular'}\n"
     ]
    }
   ],
   "source": [
    "result = mf.search_by_package_name(\"nullsweep\")\n",
    "print(result)"
   ]
  },
  {
   "cell_type": "code",
   "execution_count": 3,
   "metadata": {},
   "outputs": [
    {
     "name": "stdout",
     "output_type": "stream",
     "text": [
      "**Package**: numpy\n",
      "- **Description**: NumPy is the fundamental package for scientific computing with Python. It provides powerful N-dimensional arrays, sophisticated mathematical functions, tools for integrating C/C++ and Fortran code, and useful linear algebra, Fourier transform, and random number capabilities.\n",
      "- **Keywords**: scientific computing, array, linear algebra, Fourier transform, random number generation, data processing, numerical analysis\n",
      "- **Popularity**: very popular\n",
      "\n",
      "---\n",
      "\n"
     ]
    }
   ],
   "source": [
    "result = mf.search_by_package_name(\"numpy\", markdown=True)"
   ]
  },
  {
   "cell_type": "code",
   "execution_count": 4,
   "metadata": {},
   "outputs": [
    {
     "name": "stdout",
     "output_type": "stream",
     "text": [
      "3141\n"
     ]
    }
   ],
   "source": [
    "result = mf.search_by_keywords(\"data science\")\n",
    "\n",
    "print(len(result))"
   ]
  },
  {
   "cell_type": "code",
   "execution_count": null,
   "metadata": {},
   "outputs": [
    {
     "name": "stdout",
     "output_type": "stream",
     "text": [
      "115\n"
     ]
    }
   ],
   "source": [
    "result = mf.search_by_keywords(\"data science\", \"machine learning\", \"deep learning\", relation=\"and\")\n",
    "\n",
    "print(len(result))"
   ]
  },
  {
   "cell_type": "code",
   "execution_count": 6,
   "metadata": {},
   "outputs": [
    {
     "name": "stdout",
     "output_type": "stream",
     "text": [
      "**1. sagemaker**\n",
      "- **Description**: The SageMaker Python SDK is an open-source library designed for training and deploying machine learning models on Amazon SageMaker. It supports popular deep learning frameworks like Apache MXNet and TensorFlow, as well as Amazon's own scalable algorithms optimized for SageMaker. Users can also deploy custom algorithms in Docker containers, making it versatile for various machine learning tasks.\n",
      "- **Keywords**: machine learning, deep learning, model deployment, Amazon SageMaker, data science, AI, Docker\n",
      "- **Popularity**: very popular\n",
      "\n",
      "---\n",
      "\n",
      "**2. fastbook**\n",
      "- **Description**: fastbook is a comprehensive resource for learning deep learning through practical coding examples using the fastai library and PyTorch. It is designed for coders of all backgrounds, providing accessible education on deep learning techniques and applications across various domains, including computer vision and natural language processing.\n",
      "- **Keywords**: deep learning, fastai, PyTorch, computer vision, natural language processing, machine learning, data science, Jupyter Notebooks\n",
      "- **Popularity**: very popular\n",
      "\n",
      "---\n",
      "\n",
      "**3. ProAiLab**\n",
      "- **Description**: ProAiLab is a Python library designed for building and deploying AI models. It provides tools for data preprocessing, model training, and evaluation, making it suitable for both beginners and experienced machine learning practitioners.\n",
      "- **Keywords**: machine learning, AI, deep learning, data science, model development\n",
      "- **Popularity**: popular\n",
      "\n",
      "---\n",
      "\n",
      "3\n"
     ]
    }
   ],
   "source": [
    "result = mf.search_by_keywords(\"data science\", \"machine learning\", \"deep learning\", relation=\"and\", limit=3, markdown=True)\n",
    "\n",
    "print(len(result))"
   ]
  },
  {
   "cell_type": "code",
   "execution_count": 7,
   "metadata": {},
   "outputs": [
    {
     "name": "stdout",
     "output_type": "stream",
     "text": [
      "**1. sagemaker**\n",
      "- **Description**: The SageMaker Python SDK is an open-source library designed for training and deploying machine learning models on Amazon SageMaker. It supports popular deep learning frameworks like Apache MXNet and TensorFlow, as well as Amazon's own scalable algorithms optimized for SageMaker. Users can also deploy custom algorithms in Docker containers, making it versatile for various machine learning tasks.\n",
      "- **Keywords**: machine learning, deep learning, model deployment, Amazon SageMaker, data science, AI, Docker\n",
      "- **Popularity**: very popular\n",
      "\n",
      "---\n",
      "\n"
     ]
    }
   ],
   "source": [
    "result = mf.search_by_description(\"training and deploying machine learning models on Amazon\", markdown=True)"
   ]
  },
  {
   "cell_type": "code",
   "execution_count": null,
   "metadata": {},
   "outputs": [],
   "source": []
  }
 ],
 "metadata": {
  "kernelspec": {
   "display_name": "Python 3",
   "language": "python",
   "name": "python3"
  },
  "language_info": {
   "codemirror_mode": {
    "name": "ipython",
    "version": 3
   },
   "file_extension": ".py",
   "mimetype": "text/x-python",
   "name": "python",
   "nbconvert_exporter": "python",
   "pygments_lexer": "ipython3",
   "version": "3.11.5"
  }
 },
 "nbformat": 4,
 "nbformat_minor": 2
}
