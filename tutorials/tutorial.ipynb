{
 "cells": [
  {
   "cell_type": "code",
   "execution_count": null,
   "metadata": {},
   "outputs": [],
   "source": [
    "import sys\n",
    "sys.path.append(\"/Users/okanyenigun/Desktop/codes/reals/pypi_pkgs/v1/\")"
   ]
  },
  {
   "cell_type": "code",
   "execution_count": 1,
   "metadata": {},
   "outputs": [],
   "source": [
    "import modulift as mf"
   ]
  },
  {
   "cell_type": "markdown",
   "metadata": {},
   "source": [
    "### `search_by_keywords`\n",
    "\n",
    "Search for PyPI packages by one or more keywords, with control over how terms are combined and ranked.\n",
    "\n",
    "#### Signature\n",
    "```python\n",
    "def search_by_keywords(\n",
    "    *args,\n",
    "    relation: Literal[\"and\", \"or\"] = \"or\",\n",
    "    limit: int = 5,\n",
    "    method: Literal[\"exact\", \"jaccard\"] = \"exact\",\n",
    "    markdown: bool = False,\n",
    ") -> List[Dict]:\n",
    "```\n",
    "\n",
    "#### What it does\n",
    "- Supports two matching methods:\n",
    "  - **exact**: simple substring inclusion\n",
    "  - **jaccard**: set-based Jaccard similarity\n",
    "- Allows combining keywords with **OR** (any match) or **AND** (all match).\n",
    "- Optionally prints results as a Markdown table.\n"
   ]
  },
  {
   "cell_type": "code",
   "execution_count": 2,
   "metadata": {},
   "outputs": [],
   "source": [
    "result = mf.search_by_keywords(\"synthetic data\")"
   ]
  },
  {
   "cell_type": "code",
   "execution_count": 3,
   "metadata": {},
   "outputs": [
    {
     "name": "stdout",
     "output_type": "stream",
     "text": [
      "[{'package': 'autodatagen', 'description': 'automates the generation of synthetic data for machine learning and data science projects.', 'keywords': 'synthetic data, data generation, machine learning, data augmentation, datasets, ai, ml', 'popularity': 5}, {'package': 'gensysco', 'description': 'the gensysco library provides tools for generating and manipulating synthetic data, particularly useful for machine learning tasks like model training and evaluation.', 'keywords': 'synthetic data, machine learning, data generation, dataset creation', 'popularity': 5}, {'package': 'table-evaluator', 'description': 'tableevaluator is a python library designed to assess the similarity between synthetic datasets and real data, providing insights into the authenticity of generated data. it is particularly useful in fields like finance, healthcare, and government, where high-quality synthetic data can be created without privacy concerns. the library offers a consistent evaluation method for models generating synthetic tabular data, leveraging metrics such as correlation scores and classifier performance.', 'keywords': 'synthetic data, data evaluation, data similarity, machine learning, data privacy, gans, tabular data', 'popularity': 5}, {'package': 'py-synthpop', 'description': 'py-synthpop is a python library that provides a reimplementation of the r package synthpop, designed to generate synthetic versions of microdata containing confidential information. it allows users to create synthetic datasets that maintain the statistical properties of the original data while ensuring confidentiality. the library supports both categorical and continuous variables, synthesizing them using sequential modeling techniques. users can automate the process or customize it with optional parameters to balance disclosure risk and analytical quality.', 'keywords': 'synthetic data, data privacy, data generation, confidentiality, sequential modeling, data analysis', 'popularity': 5}, {'package': 'sdgym', 'description': 'the synthetic data gym (sdgym) is a benchmarking framework for modeling and generating synthetic data. it allows users to measure performance and memory usage across different synthetic data modeling techniques, including classical statistics, deep learning, and more.', 'keywords': 'synthetic data, data generation, benchmarking, machine learning, evaluation, memory usage, performance', 'popularity': 5}]\n"
     ]
    }
   ],
   "source": [
    "print(result)"
   ]
  },
  {
   "cell_type": "markdown",
   "metadata": {},
   "source": [
    "Search for packages containing all of the keywords “data science,” “machine learning,” and “deep learning,” and displays the top results as a Markdown-formatted table."
   ]
  },
  {
   "cell_type": "code",
   "execution_count": 4,
   "metadata": {},
   "outputs": [
    {
     "data": {
      "text/markdown": [
       "**Package:** luma-ml\n",
       "\n",
       "**Description:** luma is a python library designed for machine learning and data science. it provides tools for data analysis, model building, evaluation, and deployment.\n",
       "\n",
       "**Keywords:** machine learning, data science, classification, clustering, model building, evaluation, deep learning, pip install luma-ml\n",
       "\n",
       "**Popularity:** 5\n",
       "\n",
       "\n",
       "---\n",
       "**Package:** neuralhydrology\n",
       "\n",
       "**Description:** a python library for training neural networks with a focus on hydrological applications.\n",
       "\n",
       "**Keywords:** machine learning, deep learning, hydrology, water resources, data science\n",
       "\n",
       "**Popularity:** 5\n",
       "\n",
       "\n",
       "---\n",
       "**Package:** oifits\n",
       "\n",
       "**Description:** a python package for handling oifits data, simplifying access and processing of vlbi data for machine learning and deep learning applications.\n",
       "\n",
       "**Keywords:** oifits, vlbi, data science, machine learning, deep learning, astrophysics\n",
       "\n",
       "**Popularity:** 5\n",
       "\n",
       "\n",
       "---\n",
       "**Package:** omniverse\n",
       "\n",
       "**Description:** omniverse is a comprehensive library designed for machine learning, deep learning, data science, and software engineering explorations. it provides tools and resources for building and running docker images, managing ci/cd workflows with github actions, and creating jupyter book documentation, making it a versatile choice for developers and data scientists looking to streamline their workflows and enhance their projects.\n",
       "\n",
       "**Keywords:** machine learning, deep learning, data science, software engineering, docker, ci/cd, jupyter book\n",
       "\n",
       "**Popularity:** 5\n",
       "\n",
       "\n",
       "---\n",
       "**Package:** paddlex\n",
       "\n",
       "**Description:** the paddlex toolkit provides a comprehensive end-to-end development environment for paddlepaddle, a powerful open-source machine learning framework.\n",
       "\n",
       "**Keywords:** paddlepaddle, machine learning, deep learning, data science, ai\n",
       "\n",
       "**Popularity:** 5\n",
       "\n",
       "\n",
       "---\n"
      ],
      "text/plain": [
       "<IPython.core.display.Markdown object>"
      ]
     },
     "metadata": {},
     "output_type": "display_data"
    }
   ],
   "source": [
    "result = mf.search_by_keywords(\"data science\", \"machine learning\", \"deep learning\", relation=\"and\", markdown=True)"
   ]
  },
  {
   "cell_type": "markdown",
   "metadata": {},
   "source": [
    " **Exact match (`method=\"exact\"`)**"
   ]
  },
  {
   "cell_type": "code",
   "execution_count": 5,
   "metadata": {},
   "outputs": [
    {
     "data": {
      "text/markdown": [
       "**Package:** pglive\n",
       "\n",
       "**Description:** pglive provides thread-safe live plotting capabilities based on pyqtgraph for python applications.\n",
       "\n",
       "**Keywords:** pyqtgraph, live plotting, data visualization, thread safety, qthread\n",
       "\n",
       "**Popularity:** 5\n",
       "\n",
       "\n",
       "---\n"
      ],
      "text/plain": [
       "<IPython.core.display.Markdown object>"
      ]
     },
     "metadata": {},
     "output_type": "display_data"
    }
   ],
   "source": [
    "results_exact = mf.search_by_keywords(\n",
    "      \"chart\", \"plot\", method=\"exact\", markdown=True, limit=1     \n",
    ")"
   ]
  },
  {
   "cell_type": "markdown",
   "metadata": {},
   "source": [
    "**Using Jaccard similarity**"
   ]
  },
  {
   "cell_type": "code",
   "execution_count": 6,
   "metadata": {},
   "outputs": [
    {
     "data": {
      "text/markdown": [
       "**Package:** cc-lvs\n",
       "\n",
       "**Description:** a python library for creating and managing a variety of data visualization tools.\n",
       "\n",
       "**Keywords:** data visualization, visualization, chart, plot\n",
       "\n",
       "**Popularity:** 4\n",
       "\n",
       "**Jaccard_score:** 0.5\n",
       "\n",
       "\n",
       "---\n",
       "**Package:** VizPack\n",
       "\n",
       "**Description:** vizpack is a python visualization package designed for creating insightful plots and charts from pandas dataframes. it provides tools to label, annotate, and customize visualizations for effective data exploration.\n",
       "\n",
       "**Keywords:** pandas, data visualization, visualization, plot, chart\n",
       "\n",
       "**Popularity:** 1\n",
       "\n",
       "**Jaccard_score:** 0.4\n",
       "\n",
       "\n",
       "---\n"
      ],
      "text/plain": [
       "<IPython.core.display.Markdown object>"
      ]
     },
     "metadata": {},
     "output_type": "display_data"
    }
   ],
   "source": [
    "results_exact = mf.search_by_keywords(\n",
    "      \"chart\", \"plot\", method=\"jaccard\", markdown=True, limit=2\n",
    ")"
   ]
  },
  {
   "cell_type": "markdown",
   "metadata": {},
   "source": [
    "### `search_by_package_name`\n",
    "\n",
    "Search for a single PyPI package by its exact name, with optional Markdown formatting.\n",
    "\n",
    "#### Signature\n",
    "```python\n",
    "def search_by_package_name(\n",
    "    package_name: str,\n",
    "    markdown: bool = False,\n",
    ") -> Dict[str, str]:\n",
    "```\n",
    "\n",
    "#### What it does\n",
    "- Performs a case-sensitive match first; if no match is found, falls back to a case-insensitive search.\n",
    "- Optionally prints results as a Markdown table.\n"
   ]
  },
  {
   "cell_type": "code",
   "execution_count": 7,
   "metadata": {},
   "outputs": [
    {
     "data": {
      "text/markdown": [
       "**Package:** pandas\n",
       "\n",
       "**Description:** a powerful python data analysis toolkit for handling relational and labeled data with ease.\n",
       "\n",
       "**Keywords:** data analysis, data manipulation, dataframe, numerical analysis, machine learning, data science\n",
       "\n",
       "**Popularity:** 5\n",
       "\n",
       "\n",
       "---\n"
      ],
      "text/plain": [
       "<IPython.core.display.Markdown object>"
      ]
     },
     "metadata": {},
     "output_type": "display_data"
    }
   ],
   "source": [
    "result = mf.search_by_package_name(\"pandas\", markdown=True)"
   ]
  },
  {
   "cell_type": "markdown",
   "metadata": {},
   "source": [
    "### `search_by_description`\n",
    "\n",
    "Search for PyPI packages by matching their description text, using either full-text search or embedding-based cosine similarity, with control over result count and optional Markdown output.\n",
    "\n",
    "#### Signature\n",
    "```python\n",
    "def search_by_description(\n",
    "    description: str,\n",
    "    limit: int = 5,\n",
    "    method: Literal[\"fts\", \"cosine\"] = \"fts\",\n",
    "    markdown: bool = False,\n",
    "    **kwargs\n",
    ") -> List[Dict]:\n",
    "```\n",
    "\n",
    "#### What it does\n",
    "- Supports two search methods:\n",
    "  - **fts** (full-text search): substring match (case-insensitive) on the `description` field.\n",
    "  - **cosine** (semantic similarity): computes cosine similarity between the query embedding and stored package embeddings.\n",
    "- Optionally prints results as a Markdown table."
   ]
  },
  {
   "cell_type": "code",
   "execution_count": 8,
   "metadata": {},
   "outputs": [
    {
     "data": {
      "text/markdown": [
       "**Package:** sagemaker\n",
       "\n",
       "**Description:** the sagemaker python sdk is an open-source library designed for training and deploying machine learning models on amazon sagemaker. it supports popular deep learning frameworks like apache mxnet and tensorflow, as well as amazon's own scalable algorithms optimized for sagemaker. users can also deploy custom algorithms in docker containers, making it versatile for various machine learning tasks.\n",
       "\n",
       "**Keywords:** machine learning, deep learning, model deployment, amazon sagemaker, data science, ai, docker\n",
       "\n",
       "**Popularity:** 5\n",
       "\n",
       "\n",
       "---\n"
      ],
      "text/plain": [
       "<IPython.core.display.Markdown object>"
      ]
     },
     "metadata": {},
     "output_type": "display_data"
    }
   ],
   "source": [
    "result = mf.search_by_description(\"training and deploying machine learning models on Amazon\", markdown=True)"
   ]
  },
  {
   "cell_type": "markdown",
   "metadata": {},
   "source": [
    "Full-text search (default method), top 5 results"
   ]
  },
  {
   "cell_type": "code",
   "execution_count": 9,
   "metadata": {},
   "outputs": [
    {
     "data": {
      "text/markdown": [
       "**Package:** 310-notebook\n",
       "\n",
       "**Description:** a jupyterlab extension that provides a notebook interface for interactive data analysis and visualization.\n",
       "\n",
       "**Keywords:** jupyterlab, notebook, data analysis, visualization\n",
       "\n",
       "**Popularity:** 5\n",
       "\n",
       "\n",
       "---\n"
      ],
      "text/plain": [
       "<IPython.core.display.Markdown object>"
      ]
     },
     "metadata": {},
     "output_type": "display_data"
    }
   ],
   "source": [
    "fts_results = mf.search_by_description(\n",
    "    \"data analysis\",\n",
    "    limit=1,\n",
    "    method=\"fts\",\n",
    "    markdown=True\n",
    ")"
   ]
  },
  {
   "cell_type": "markdown",
   "metadata": {},
   "source": [
    "Cosine similarity search, using default embedding model, top 3 results"
   ]
  },
  {
   "cell_type": "code",
   "execution_count": 10,
   "metadata": {},
   "outputs": [
    {
     "name": "stdout",
     "output_type": "stream",
     "text": [
      "Using default embedding model: sentence-transformers/all-MiniLM-L6-v2.If you want to use a different model, please specify it under the 'embedding_model' parameter.\n"
     ]
    },
    {
     "data": {
      "text/markdown": [
       "**Package:** blair-nn\n",
       "\n",
       "**Description:** this library implements a feedforward neural network (ffnn) model with a single hidden layer, utilizing vanilla backpropagation and stochastic gradient descent for training.\n",
       "\n",
       "**Keywords:** neural network, feedforward, backpropagation, gradient descent, machine learning\n",
       "\n",
       "**Popularity:** 3\n",
       "\n",
       "**Cosine_similarity:** 0.64157634973526\n",
       "\n",
       "\n",
       "---\n",
       "**Package:** perceptron-pypi-dhires9196\n",
       "\n",
       "**Description:** this library provides a framework for building and training perceptrons, a fundamental type of neural network. it offers tools for defining the architecture, initializing weights, and performing backpropagation to optimize model parameters.\n",
       "\n",
       "**Keywords:** perceptron, neural network, machine learning, deep learning\n",
       "\n",
       "**Popularity:** 2\n",
       "\n",
       "**Cosine_similarity:** 0.6225101947784424\n",
       "\n",
       "\n",
       "---\n",
       "**Package:** ANN-Implementation-AmanGupta0112\n",
       "\n",
       "**Description:** this library provides implementations of various artificial neural network (ann) models, including feedforward networks, convolutional networks, and recurrent networks. it offers functionalities for training, testing, and evaluating ann models.\n",
       "\n",
       "**Keywords:** artificial neural network, ann, machine learning, deep learning\n",
       "\n",
       "**Popularity:** 1\n",
       "\n",
       "**Cosine_similarity:** 0.621996283531189\n",
       "\n",
       "\n",
       "---\n"
      ],
      "text/plain": [
       "<IPython.core.display.Markdown object>"
      ]
     },
     "metadata": {},
     "output_type": "display_data"
    }
   ],
   "source": [
    "cosine_results = mf.search_by_description(\n",
    "    \"neural network\",\n",
    "    limit=3,\n",
    "    method=\"cosine\",\n",
    "    markdown=True\n",
    ")"
   ]
  },
  {
   "cell_type": "markdown",
   "metadata": {},
   "source": [
    "### `find_similar_packages`\n",
    "\n",
    "Search for similar PyPI packages based on a reference package name, with multiple similarity methods and optional Markdown output.\n",
    "\n",
    "#### Signature\n",
    "```python\n",
    " def find_similar_packages(\n",
    "     reference_package: str,\n",
    "     limit: int = 5,\n",
    "     method: Literal[\"tf-idf\", \"cosine\", \"jaccard\"] = \"tf-idf\",\n",
    "     markdown: bool = False,\n",
    " ) -> List[Dict]:\n",
    "```\n",
    "\n",
    "#### What it does\n",
    "- Computes similarity between the reference and all other packages using one of three methods:\n",
    "  - **td-idf**\n",
    "  - **cosine**\n",
    "  - **jaccard**\n",
    "- Returns the top limit most similar packages, excluding the reference itself.\n",
    "- Optionally prints results as a Markdown table."
   ]
  },
  {
   "cell_type": "code",
   "execution_count": 11,
   "metadata": {},
   "outputs": [
    {
     "data": {
      "text/markdown": [
       "**Package:** mylist\n",
       "\n",
       "**Description:** a python library for data manipulation and analysis.\n",
       "\n",
       "**Keywords:** data processing, analysis, machine learning\n",
       "\n",
       "**Popularity:** 1\n",
       "\n",
       "\n",
       "---\n",
       "**Package:** daction\n",
       "\n",
       "**Description:** a python library for data manipulation and analysis.\n",
       "\n",
       "**Keywords:** data processing, machine learning, analysis\n",
       "\n",
       "**Popularity:** 2\n",
       "\n",
       "\n",
       "---\n"
      ],
      "text/plain": [
       "<IPython.core.display.Markdown object>"
      ]
     },
     "metadata": {},
     "output_type": "display_data"
    }
   ],
   "source": [
    "sim_tf = mf.find_similar_packages(\"pandas\", method=\"tf-idf\", limit=2, markdown=True)"
   ]
  },
  {
   "cell_type": "markdown",
   "metadata": {},
   "source": [
    "Embedding cosine similarity"
   ]
  },
  {
   "cell_type": "code",
   "execution_count": 12,
   "metadata": {},
   "outputs": [
    {
     "data": {
      "text/markdown": [
       "**Package:** panndas\n",
       "\n",
       "**Description:** a python library that provides fast, flexible, and expressive data structures designed to make working with relational or labeled data easy and intuitive.\n",
       "\n",
       "**Keywords:** pandas, neural networks, data processing, machine learning\n",
       "\n",
       "**Popularity:** 4\n",
       "\n",
       "\n",
       "---\n",
       "**Package:** liebres\n",
       "\n",
       "**Description:** a flexible and powerful data analysis/manipulation library for python on top of sql, providing labeled data structures.\n",
       "\n",
       "**Keywords:** data processing, sql, pandas, labeled data\n",
       "\n",
       "**Popularity:** 2\n",
       "\n",
       "\n",
       "---\n"
      ],
      "text/plain": [
       "<IPython.core.display.Markdown object>"
      ]
     },
     "metadata": {},
     "output_type": "display_data"
    }
   ],
   "source": [
    "sim_tf = mf.find_similar_packages(\"pandas\", method=\"cosine\", limit=2, markdown=True)"
   ]
  },
  {
   "cell_type": "markdown",
   "metadata": {},
   "source": [
    "Keyword Jaccard similarity"
   ]
  },
  {
   "cell_type": "code",
   "execution_count": 13,
   "metadata": {},
   "outputs": [
    {
     "data": {
      "text/markdown": [
       "**Package:** superpandas\n",
       "\n",
       "**Description:** superpandas is a powerful python library that extends the capabilities of pandas, offering enhanced functionality for data manipulation and analysis. it provides a more intuitive and efficient way to work with large datasets.\n",
       "\n",
       "**Keywords:** pandas, data science, data analysis, data manipulation, machine learning\n",
       "\n",
       "**Popularity:** 2\n",
       "\n",
       "\n",
       "---\n",
       "**Package:** Analyze\n",
       "\n",
       "**Description:** analyze is a python module designed for comprehensive statistical analysis of dataframes, enabling data scientists, analysts, and machine learning engineers to gain significant insights from datasets with minimal code. it simplifies the process of exploring and understanding data by providing various statistical metrics and visualizations in just five lines of code.\n",
       "\n",
       "**Keywords:** statistical analysis, dataframe, data science, data analysis, machine learning\n",
       "\n",
       "**Popularity:** 1\n",
       "\n",
       "\n",
       "---\n"
      ],
      "text/plain": [
       "<IPython.core.display.Markdown object>"
      ]
     },
     "metadata": {},
     "output_type": "display_data"
    }
   ],
   "source": [
    "sim_tf = mf.find_similar_packages(\"pandas\", method=\"jaccard\", limit=2, markdown=True)"
   ]
  },
  {
   "cell_type": "code",
   "execution_count": null,
   "metadata": {},
   "outputs": [],
   "source": []
  }
 ],
 "metadata": {
  "kernelspec": {
   "display_name": "venv",
   "language": "python",
   "name": "python3"
  },
  "language_info": {
   "codemirror_mode": {
    "name": "ipython",
    "version": 3
   },
   "file_extension": ".py",
   "mimetype": "text/x-python",
   "name": "python",
   "nbconvert_exporter": "python",
   "pygments_lexer": "ipython3",
   "version": "3.11.5"
  }
 },
 "nbformat": 4,
 "nbformat_minor": 2
}
